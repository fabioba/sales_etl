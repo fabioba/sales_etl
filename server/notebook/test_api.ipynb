{
 "cells": [
  {
   "cell_type": "code",
   "execution_count": 1,
   "metadata": {},
   "outputs": [],
   "source": [
    "import requests\n",
    "import json\n",
    "import pandas as pd"
   ]
  },
  {
   "cell_type": "code",
   "execution_count": 20,
   "metadata": {},
   "outputs": [],
   "source": [
    "#url = 'http://localhost:5001/sales?count=10'\n",
    "\n",
    "url = 'http://sales-data-server:5001/sales?count=10'\n",
    "\n",
    "url = 'http://mystifying_galileo:5001/sales?count=10'\n",
    "\n"
   ]
  },
  {
   "cell_type": "code",
   "execution_count": 21,
   "metadata": {},
   "outputs": [],
   "source": [
    "response = requests.get(url)"
   ]
  },
  {
   "cell_type": "code",
   "execution_count": 22,
   "metadata": {},
   "outputs": [
    {
     "data": {
      "text/plain": [
       "200"
      ]
     },
     "execution_count": 22,
     "metadata": {},
     "output_type": "execute_result"
    }
   ],
   "source": [
    "response.status_code"
   ]
  },
  {
   "cell_type": "code",
   "execution_count": 23,
   "metadata": {},
   "outputs": [],
   "source": [
    "df = pd.DataFrame(json.loads(response.content))"
   ]
  },
  {
   "cell_type": "code",
   "execution_count": 24,
   "metadata": {},
   "outputs": [
    {
     "data": {
      "text/html": [
       "<div>\n",
       "<style scoped>\n",
       "    .dataframe tbody tr th:only-of-type {\n",
       "        vertical-align: middle;\n",
       "    }\n",
       "\n",
       "    .dataframe tbody tr th {\n",
       "        vertical-align: top;\n",
       "    }\n",
       "\n",
       "    .dataframe thead th {\n",
       "        text-align: right;\n",
       "    }\n",
       "</style>\n",
       "<table border=\"1\" class=\"dataframe\">\n",
       "  <thead>\n",
       "    <tr style=\"text-align: right;\">\n",
       "      <th></th>\n",
       "      <th>category</th>\n",
       "      <th>customer_id</th>\n",
       "      <th>customer_name</th>\n",
       "      <th>payment_method</th>\n",
       "      <th>price</th>\n",
       "      <th>product_id</th>\n",
       "      <th>product_name</th>\n",
       "      <th>quantity</th>\n",
       "      <th>region</th>\n",
       "      <th>sale_date</th>\n",
       "      <th>sales_id</th>\n",
       "      <th>total_amount</th>\n",
       "    </tr>\n",
       "  </thead>\n",
       "  <tbody>\n",
       "    <tr>\n",
       "      <th>0</th>\n",
       "      <td>Electronics</td>\n",
       "      <td>1</td>\n",
       "      <td>Alice</td>\n",
       "      <td>Gift Card</td>\n",
       "      <td>500.0</td>\n",
       "      <td>3</td>\n",
       "      <td>Tablet</td>\n",
       "      <td>1</td>\n",
       "      <td>North</td>\n",
       "      <td>2024-12-31 13:59:43</td>\n",
       "      <td>6314</td>\n",
       "      <td>500.0</td>\n",
       "    </tr>\n",
       "    <tr>\n",
       "      <th>1</th>\n",
       "      <td>Electronics</td>\n",
       "      <td>1</td>\n",
       "      <td>Alice</td>\n",
       "      <td>PayPal</td>\n",
       "      <td>500.0</td>\n",
       "      <td>3</td>\n",
       "      <td>Tablet</td>\n",
       "      <td>1</td>\n",
       "      <td>North</td>\n",
       "      <td>2024-12-31 13:59:43</td>\n",
       "      <td>9910</td>\n",
       "      <td>500.0</td>\n",
       "    </tr>\n",
       "    <tr>\n",
       "      <th>2</th>\n",
       "      <td>Accessories</td>\n",
       "      <td>2</td>\n",
       "      <td>Bob</td>\n",
       "      <td>Credit Card</td>\n",
       "      <td>300.0</td>\n",
       "      <td>4</td>\n",
       "      <td>Monitor</td>\n",
       "      <td>4</td>\n",
       "      <td>South</td>\n",
       "      <td>2024-12-31 13:59:43</td>\n",
       "      <td>1016</td>\n",
       "      <td>1200.0</td>\n",
       "    </tr>\n",
       "    <tr>\n",
       "      <th>3</th>\n",
       "      <td>Accessories</td>\n",
       "      <td>3</td>\n",
       "      <td>Charlie</td>\n",
       "      <td>PayPal</td>\n",
       "      <td>300.0</td>\n",
       "      <td>4</td>\n",
       "      <td>Monitor</td>\n",
       "      <td>3</td>\n",
       "      <td>East</td>\n",
       "      <td>2024-12-31 13:59:43</td>\n",
       "      <td>1520</td>\n",
       "      <td>900.0</td>\n",
       "    </tr>\n",
       "    <tr>\n",
       "      <th>4</th>\n",
       "      <td>Electronics</td>\n",
       "      <td>4</td>\n",
       "      <td>Diana</td>\n",
       "      <td>Gift Card</td>\n",
       "      <td>500.0</td>\n",
       "      <td>3</td>\n",
       "      <td>Tablet</td>\n",
       "      <td>3</td>\n",
       "      <td>West</td>\n",
       "      <td>2024-12-31 13:59:43</td>\n",
       "      <td>5060</td>\n",
       "      <td>1500.0</td>\n",
       "    </tr>\n",
       "  </tbody>\n",
       "</table>\n",
       "</div>"
      ],
      "text/plain": [
       "      category  customer_id customer_name payment_method  price  product_id  \\\n",
       "0  Electronics            1         Alice      Gift Card  500.0           3   \n",
       "1  Electronics            1         Alice         PayPal  500.0           3   \n",
       "2  Accessories            2           Bob    Credit Card  300.0           4   \n",
       "3  Accessories            3       Charlie         PayPal  300.0           4   \n",
       "4  Electronics            4         Diana      Gift Card  500.0           3   \n",
       "\n",
       "  product_name  quantity region            sale_date  sales_id  total_amount  \n",
       "0       Tablet         1  North  2024-12-31 13:59:43      6314         500.0  \n",
       "1       Tablet         1  North  2024-12-31 13:59:43      9910         500.0  \n",
       "2      Monitor         4  South  2024-12-31 13:59:43      1016        1200.0  \n",
       "3      Monitor         3   East  2024-12-31 13:59:43      1520         900.0  \n",
       "4       Tablet         3   West  2024-12-31 13:59:43      5060        1500.0  "
      ]
     },
     "execution_count": 24,
     "metadata": {},
     "output_type": "execute_result"
    }
   ],
   "source": [
    "df.head()"
   ]
  },
  {
   "cell_type": "code",
   "execution_count": null,
   "metadata": {},
   "outputs": [],
   "source": []
  },
  {
   "cell_type": "code",
   "execution_count": null,
   "metadata": {},
   "outputs": [],
   "source": []
  }
 ],
 "metadata": {
  "kernelspec": {
   "display_name": "dbt_env",
   "language": "python",
   "name": "python3"
  },
  "language_info": {
   "codemirror_mode": {
    "name": "ipython",
    "version": 3
   },
   "file_extension": ".py",
   "mimetype": "text/x-python",
   "name": "python",
   "nbconvert_exporter": "python",
   "pygments_lexer": "ipython3",
   "version": "3.10.13"
  }
 },
 "nbformat": 4,
 "nbformat_minor": 2
}
